{
 "cells": [
  {
   "cell_type": "code",
   "execution_count": 1,
   "metadata": {},
   "outputs": [],
   "source": [
    "from Bio import SeqIO\n",
    "from Bio import Entrez\n",
    "Entrez.email = 'amromics@gmail.com'\n",
    "import sys,os"
   ]
  },
  {
   "cell_type": "code",
   "execution_count": 2,
   "metadata": {},
   "outputs": [
    {
     "name": "stdout",
     "output_type": "stream",
     "text": [
      "{'KP886808.1', 'MG772933.1', 'KF569996.1', 'DQ412042.1', 'MT084071.1', 'JX993988.1', 'DQ648856.1', 'DQ648857.1', 'KP886809.1', 'JX993987.1', 'DQ412043.1', 'MG772934.1', 'KU973692.1', 'MN996532.1'}\n"
     ]
    }
   ],
   "source": [
    "file_handle=open('/home/quang/DownloadsprimerUltramp_sars-cov2_FP_4MM_bcv_noMM_at_last_position.tsv')\n",
    "lines_list = file_handle.readlines() \n",
    "id_set=set()\n",
    "for i in range(1,len(lines_list)):\n",
    "    tok=lines_list[i].strip().split('\\t')\n",
    "    genbankID=tok[1].split('|')[1]\n",
    "    id_set.add(genbankID.strip())\n",
    "file_handle.close()\n",
    "print(id_set)\n",
    "ids_str=''\n",
    "base='/mnt/data/coronacheck/fpsamples'\n",
    "for s in id_set:\n",
    "    gb_file = os.path.join(base,s + '.fasta')    \n",
    "    if not os.path.isfile(gb_file):\n",
    "        ids_str += s + ','\n",
    "    else:\n",
    "        print(s, 'downloaded')\n",
    "ids_str = ids_str[:-1]\n",
    "handle = Entrez.efetch(db=\"nucleotide\", id=ids_str, rettype=\"fasta\", retmode=\"text\")\n",
    "\n",
    "for record in SeqIO.parse(handle, 'fasta'):\n",
    "    gb_file = os.path.join(base,record.name + '.fasta')    \n",
    "    with open(gb_file,'w') as f:\n",
    "        SeqIO.write(record, f,'fasta')    \n",
    "    \n",
    "    \n",
    "    \n",
    "    "
   ]
  }
 ],
 "metadata": {
  "kernelspec": {
   "display_name": "Python 3",
   "language": "python",
   "name": "python3"
  },
  "language_info": {
   "codemirror_mode": {
    "name": "ipython",
    "version": 3
   },
   "file_extension": ".py",
   "mimetype": "text/x-python",
   "name": "python",
   "nbconvert_exporter": "python",
   "pygments_lexer": "ipython3",
   "version": "3.6.9"
  }
 },
 "nbformat": 4,
 "nbformat_minor": 2
}
